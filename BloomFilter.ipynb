{
 "cells": [
  {
   "cell_type": "code",
   "execution_count": 14,
   "metadata": {},
   "outputs": [],
   "source": [
    "import hashlib"
   ]
  },
  {
   "cell_type": "code",
   "execution_count": 15,
   "metadata": {},
   "outputs": [],
   "source": [
    "class BloomFilter:\n",
    "    def __init__(self, size, hash_count):\n",
    "        # Initialize the Bloom Filter\n",
    "        self.size = size\n",
    "        self.hash_count = hash_count\n",
    "        self.bit_array = [0] * size\n",
    "\n",
    "    def add(self, item):\n",
    "        # Add an item to the Bloom Filter\n",
    "        for i in range(self.hash_count):\n",
    "            # Create a unique hash using hashlib and update bit_array\n",
    "            index = self._hash_item(item, i)\n",
    "            self.bit_array[index] = 1\n",
    "\n",
    "    def contains(self, item):\n",
    "        # Check if the item is in the Bloom Filter\n",
    "        for i in range(self.hash_count):\n",
    "            index = self._hash_item(item, i)\n",
    "            if self.bit_array[index] == 0:\n",
    "                return False  # Definitely not in the set\n",
    "        return True  # Possibly in the set\n",
    "\n",
    "    def _hash_item(self, item, seed):\n",
    "        # Helper function to hash an item with a given seed\n",
    "        hasher = hashlib.md5() # A widely used cryptographic hash function that takes an input (or 'message') and produces a fixed-size, 128-bit hash value (or 'digest')\n",
    "        hasher.update(item.encode('utf-8'))  # Update the hash object with the item itself\n",
    "        hasher.update(str(seed).encode('utf-8'))  # Update the hash object with the seed to make it unique per seed\n",
    "        # Hash the item and convert it to an integer position within the bit array\n",
    "        return int(hasher.hexdigest(), 16) % self.size\n"
   ]
  },
  {
   "cell_type": "markdown",
   "metadata": {},
   "source": [
    "In the _hash_item function:\n",
    "1. hasher.update(item.encode('utf-8')): This line adds the actual item (converted to bytes) to the hash. This is crucial because the item is the value we're trying to represent in the Bloom Filter.\n",
    "2. hasher.update(str(seed).encode('utf-8')): The seed is still used to ensure each hash function is unique. By combining the item with different seeds, we get unique hash outputs, simulating multiple hash functions.\n",
    "3. Hash Conversion: The final hash digest is converted to an integer with int(hasher.hexdigest(), 16), and the modulo operation (% self.size) maps it to a valid index in the Bloom Filter's bit array."
   ]
  },
  {
   "cell_type": "code",
   "execution_count": 16,
   "metadata": {},
   "outputs": [
    {
     "name": "stdout",
     "output_type": "stream",
     "text": [
      "Initial bit array: [0, 0, 0, 0, 0, 0, 0, 0, 0, 0, 0, 0, 0, 0, 0, 0, 0, 0, 0, 0]\n"
     ]
    }
   ],
   "source": [
    "# Creating a Bloom Filter with a bit array size of 20 and 3 hash functions\n",
    "bloom_filter = BloomFilter(size=20, hash_count=3)\n",
    "print(f\"Initial bit array: {bloom_filter.bit_array}\")"
   ]
  },
  {
   "cell_type": "code",
   "execution_count": 17,
   "metadata": {},
   "outputs": [
    {
     "name": "stdout",
     "output_type": "stream",
     "text": [
      "Added 'apple' to the Bloom Filter.\n",
      "Bit array after adding 'apple': [0, 0, 0, 0, 0, 0, 0, 0, 0, 0, 0, 0, 0, 1, 0, 1, 0, 1, 0, 0]\n",
      "Added 'banana' to the Bloom Filter.\n",
      "Bit array after adding 'banana': [0, 0, 1, 0, 1, 0, 0, 0, 0, 0, 0, 0, 0, 1, 0, 1, 0, 1, 0, 1]\n",
      "Added 'orange' to the Bloom Filter.\n",
      "Bit array after adding 'orange': [0, 1, 1, 0, 1, 0, 1, 0, 0, 0, 0, 0, 0, 1, 1, 1, 0, 1, 0, 1]\n"
     ]
    }
   ],
   "source": [
    "# Adding some items to the Bloom Filter\n",
    "items_to_add = [\"apple\", \"banana\", \"orange\"]\n",
    "for item in items_to_add:\n",
    "    bloom_filter.add(item)\n",
    "    print(f\"Added '{item}' to the Bloom Filter.\")\n",
    "    print(f\"Bit array after adding '{item}': {bloom_filter.bit_array}\")"
   ]
  },
  {
   "cell_type": "code",
   "execution_count": 18,
   "metadata": {},
   "outputs": [
    {
     "name": "stdout",
     "output_type": "stream",
     "text": [
      "Bloom Filter Test Results:\n",
      "Item 'apple': Possibly in the set\n",
      "Item 'banana': Possibly in the set\n",
      "Item 'grape': Definitely not in the set\n",
      "Item 'orange': Possibly in the set\n",
      "Item 'cherry': Definitely not in the set\n"
     ]
    }
   ],
   "source": [
    "# Items to test for existence\n",
    "test_items = [\"apple\", \"banana\", \"grape\", \"orange\", \"cherry\"]\n",
    "\n",
    "print(\"Bloom Filter Test Results:\")\n",
    "for item in test_items:\n",
    "    result = \"Possibly in the set\" if bloom_filter.contains(item) else \"Definitely not in the set\"\n",
    "    print(f\"Item '{item}': {result}\")"
   ]
  }
 ],
 "metadata": {
  "kernelspec": {
   "display_name": "dsc",
   "language": "python",
   "name": "python3"
  },
  "language_info": {
   "codemirror_mode": {
    "name": "ipython",
    "version": 3
   },
   "file_extension": ".py",
   "mimetype": "text/x-python",
   "name": "python",
   "nbconvert_exporter": "python",
   "pygments_lexer": "ipython3",
   "version": "3.12.5"
  }
 },
 "nbformat": 4,
 "nbformat_minor": 2
}
